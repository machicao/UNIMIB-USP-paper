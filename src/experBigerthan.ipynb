{
 "cells": [
  {
   "cell_type": "code",
   "execution_count": 1,
   "metadata": {},
   "outputs": [
    {
     "data": {
      "text/html": [
       "<script>requirejs.config({paths: { 'plotly': ['https://cdn.plot.ly/plotly-latest.min']},});if(!window.Plotly) {{require(['plotly'],function(plotly) {window.Plotly=plotly;});}}</script>"
      ],
      "text/vnd.plotly.v1+html": [
       "<script>requirejs.config({paths: { 'plotly': ['https://cdn.plot.ly/plotly-latest.min']},});if(!window.Plotly) {{require(['plotly'],function(plotly) {window.Plotly=plotly;});}}</script>"
      ]
     },
     "metadata": {},
     "output_type": "display_data"
    }
   ],
   "source": [
    "import pandas as pd \n",
    "import numpy as np\n",
    "import matplotlib.pyplot as plt  \n",
    "import plotly.plotly as py\n",
    "import plotly\n",
    "from plotly import __version__\n",
    "from plotly.offline import download_plotlyjs, init_notebook_mode, plot, iplot\n",
    "import plotly.graph_objs as go\n",
    "import plotly.tools as tls\n",
    "init_notebook_mode(connected=True) #plotly offline\n",
    "from scipy.io import arff\n",
    "from sklearn.preprocessing import StandardScaler\n",
    "from sklearn.decomposition import PCA"
   ]
  },
  {
   "cell_type": "markdown",
   "metadata": {},
   "source": [
    "## Abrir achivo em diferentes formatos"
   ]
  },
  {
   "cell_type": "code",
   "execution_count": 2,
   "metadata": {},
   "outputs": [
    {
     "data": {
      "text/html": [
       "<div>\n",
       "<style scoped>\n",
       "    .dataframe tbody tr th:only-of-type {\n",
       "        vertical-align: middle;\n",
       "    }\n",
       "\n",
       "    .dataframe tbody tr th {\n",
       "        vertical-align: top;\n",
       "    }\n",
       "\n",
       "    .dataframe thead th {\n",
       "        text-align: right;\n",
       "    }\n",
       "</style>\n",
       "<table border=\"1\" class=\"dataframe\">\n",
       "  <thead>\n",
       "    <tr style=\"text-align: right;\">\n",
       "      <th></th>\n",
       "      <th>avg_degree_1</th>\n",
       "      <th>avg_path_1</th>\n",
       "      <th>pearson_1</th>\n",
       "      <th>avg_hier2_1</th>\n",
       "      <th>avg_hier3_1</th>\n",
       "      <th>avg_degree_2</th>\n",
       "      <th>avg_path_2</th>\n",
       "      <th>pearson_2</th>\n",
       "      <th>avg_hier2_2</th>\n",
       "      <th>avg_hier3_2</th>\n",
       "      <th>...</th>\n",
       "      <th>avg_hier2_9</th>\n",
       "      <th>avg_hier3_9</th>\n",
       "      <th>avg_degree_10</th>\n",
       "      <th>avg_path_10</th>\n",
       "      <th>pearson_10</th>\n",
       "      <th>avg_hier2_10</th>\n",
       "      <th>avg_hier3_10</th>\n",
       "      <th>paciente</th>\n",
       "      <th>name_class</th>\n",
       "      <th>class</th>\n",
       "    </tr>\n",
       "  </thead>\n",
       "  <tbody>\n",
       "    <tr>\n",
       "      <th>0</th>\n",
       "      <td>5.271241</td>\n",
       "      <td>6.200294</td>\n",
       "      <td>-0.173087</td>\n",
       "      <td>220.191594</td>\n",
       "      <td>493.680892</td>\n",
       "      <td>5.272339</td>\n",
       "      <td>6.170127</td>\n",
       "      <td>-0.172457</td>\n",
       "      <td>217.418058</td>\n",
       "      <td>486.923467</td>\n",
       "      <td>...</td>\n",
       "      <td>17.348993</td>\n",
       "      <td>45.067114</td>\n",
       "      <td>3.566372</td>\n",
       "      <td>6.740374</td>\n",
       "      <td>-0.052109</td>\n",
       "      <td>13.265487</td>\n",
       "      <td>29.946903</td>\n",
       "      <td>TCGA_BH_A1EN.txt</td>\n",
       "      <td>cancer</td>\n",
       "      <td>0</td>\n",
       "    </tr>\n",
       "    <tr>\n",
       "      <th>1</th>\n",
       "      <td>5.295076</td>\n",
       "      <td>6.213815</td>\n",
       "      <td>-0.174844</td>\n",
       "      <td>220.101867</td>\n",
       "      <td>497.944368</td>\n",
       "      <td>5.291439</td>\n",
       "      <td>6.220724</td>\n",
       "      <td>-0.175197</td>\n",
       "      <td>215.433278</td>\n",
       "      <td>489.412543</td>\n",
       "      <td>...</td>\n",
       "      <td>20.055215</td>\n",
       "      <td>42.981595</td>\n",
       "      <td>2.711111</td>\n",
       "      <td>3.438384</td>\n",
       "      <td>0.026581</td>\n",
       "      <td>7.488889</td>\n",
       "      <td>15.022222</td>\n",
       "      <td>TCGA_E2_A1L7.txt</td>\n",
       "      <td>cancer</td>\n",
       "      <td>0</td>\n",
       "    </tr>\n",
       "    <tr>\n",
       "      <th>2</th>\n",
       "      <td>5.383317</td>\n",
       "      <td>6.195062</td>\n",
       "      <td>-0.175846</td>\n",
       "      <td>222.407398</td>\n",
       "      <td>495.412612</td>\n",
       "      <td>5.292042</td>\n",
       "      <td>6.208263</td>\n",
       "      <td>-0.175105</td>\n",
       "      <td>216.673448</td>\n",
       "      <td>487.988669</td>\n",
       "      <td>...</td>\n",
       "      <td>11.245902</td>\n",
       "      <td>33.745902</td>\n",
       "      <td>2.486111</td>\n",
       "      <td>4.274670</td>\n",
       "      <td>-0.033388</td>\n",
       "      <td>10.625000</td>\n",
       "      <td>32.750000</td>\n",
       "      <td>TCGA_BH_A1FJ.txt</td>\n",
       "      <td>cancer</td>\n",
       "      <td>0</td>\n",
       "    </tr>\n",
       "    <tr>\n",
       "      <th>3</th>\n",
       "      <td>5.249474</td>\n",
       "      <td>6.210622</td>\n",
       "      <td>-0.174010</td>\n",
       "      <td>214.487895</td>\n",
       "      <td>485.811842</td>\n",
       "      <td>5.247191</td>\n",
       "      <td>6.223727</td>\n",
       "      <td>-0.175855</td>\n",
       "      <td>208.791332</td>\n",
       "      <td>474.347245</td>\n",
       "      <td>...</td>\n",
       "      <td>6.220779</td>\n",
       "      <td>11.428571</td>\n",
       "      <td>2.202899</td>\n",
       "      <td>5.216539</td>\n",
       "      <td>-0.269464</td>\n",
       "      <td>5.898551</td>\n",
       "      <td>9.797101</td>\n",
       "      <td>TCGA_BH_A0DZ.txt</td>\n",
       "      <td>cancer</td>\n",
       "      <td>0</td>\n",
       "    </tr>\n",
       "    <tr>\n",
       "      <th>4</th>\n",
       "      <td>5.241010</td>\n",
       "      <td>6.195261</td>\n",
       "      <td>-0.167624</td>\n",
       "      <td>224.161183</td>\n",
       "      <td>509.164244</td>\n",
       "      <td>5.240246</td>\n",
       "      <td>6.198525</td>\n",
       "      <td>-0.167239</td>\n",
       "      <td>222.425565</td>\n",
       "      <td>506.122433</td>\n",
       "      <td>...</td>\n",
       "      <td>34.870387</td>\n",
       "      <td>101.206121</td>\n",
       "      <td>3.947761</td>\n",
       "      <td>6.808833</td>\n",
       "      <td>-0.140858</td>\n",
       "      <td>27.883085</td>\n",
       "      <td>82.509950</td>\n",
       "      <td>TCGA_E9_A1RH.txt</td>\n",
       "      <td>cancer</td>\n",
       "      <td>0</td>\n",
       "    </tr>\n",
       "  </tbody>\n",
       "</table>\n",
       "<p>5 rows × 53 columns</p>\n",
       "</div>"
      ],
      "text/plain": [
       "   avg_degree_1  avg_path_1  pearson_1  avg_hier2_1  avg_hier3_1  \\\n",
       "0      5.271241    6.200294  -0.173087   220.191594   493.680892   \n",
       "1      5.295076    6.213815  -0.174844   220.101867   497.944368   \n",
       "2      5.383317    6.195062  -0.175846   222.407398   495.412612   \n",
       "3      5.249474    6.210622  -0.174010   214.487895   485.811842   \n",
       "4      5.241010    6.195261  -0.167624   224.161183   509.164244   \n",
       "\n",
       "   avg_degree_2  avg_path_2  pearson_2  avg_hier2_2  avg_hier3_2  ...    \\\n",
       "0      5.272339    6.170127  -0.172457   217.418058   486.923467  ...     \n",
       "1      5.291439    6.220724  -0.175197   215.433278   489.412543  ...     \n",
       "2      5.292042    6.208263  -0.175105   216.673448   487.988669  ...     \n",
       "3      5.247191    6.223727  -0.175855   208.791332   474.347245  ...     \n",
       "4      5.240246    6.198525  -0.167239   222.425565   506.122433  ...     \n",
       "\n",
       "   avg_hier2_9  avg_hier3_9  avg_degree_10  avg_path_10  pearson_10  \\\n",
       "0    17.348993    45.067114       3.566372     6.740374   -0.052109   \n",
       "1    20.055215    42.981595       2.711111     3.438384    0.026581   \n",
       "2    11.245902    33.745902       2.486111     4.274670   -0.033388   \n",
       "3     6.220779    11.428571       2.202899     5.216539   -0.269464   \n",
       "4    34.870387   101.206121       3.947761     6.808833   -0.140858   \n",
       "\n",
       "   avg_hier2_10  avg_hier3_10          paciente  name_class  class  \n",
       "0     13.265487     29.946903  TCGA_BH_A1EN.txt      cancer      0  \n",
       "1      7.488889     15.022222  TCGA_E2_A1L7.txt      cancer      0  \n",
       "2     10.625000     32.750000  TCGA_BH_A1FJ.txt      cancer      0  \n",
       "3      5.898551      9.797101  TCGA_BH_A0DZ.txt      cancer      0  \n",
       "4     27.883085     82.509950  TCGA_E9_A1RH.txt      cancer      0  \n",
       "\n",
       "[5 rows x 53 columns]"
      ]
     },
     "execution_count": 2,
     "metadata": {},
     "output_type": "execute_result"
    }
   ],
   "source": [
    "#Abrir un arhivo formato csv\n",
    "# df = pd.read_csv(filepath_or_buffer='Arffs/java_train.csv',delimiter='\\t')\n",
    "# df = pd.read_csv(filepath_or_buffer='Arffs/thre=0123451.csv', delimiter='\\t')\n",
    "\n",
    "# Abrir un archivo formato arff \n",
    "# filename = \"thre=0123451.arff\"\n",
    "# data = arff.loadarff(filename)\n",
    "# df = pd.DataFrame(data[0])\n",
    "# df.head()\n",
    "\n",
    "\n",
    " \n",
    "df = pd.read_csv(filepath_or_buffer='Arffs/bigerthan_full.csv', delimiter='\\t')\n",
    "df.head()"
   ]
  },
  {
   "cell_type": "markdown",
   "metadata": {},
   "source": [
    "### Divide data into train and test\n",
    "\n",
    "After train_test_split\n",
    "\n",
    "You do that on the training set of data. But then you have to apply the same transformation to your testing set (e.g. in cross-validation), or to newly obtained examples before forecast. But you have to use the same two parameters μ and σ (values) that you used for centering the training set.\n",
    "\n",
    "These methods are used to center/feature scale the given data. It basically helps to normalize the data within a particular range\n",
    "\n",
    "For this, we use Z-score method.\n",
    "\n",
    "Z-Score\n",
    "\n",
    "We do this on the training set of data.\n",
    "\n",
    "1.Fit(): Method calculates the parameters μ and σ and saves them as internal objects.\n",
    "\n",
    "2.Transform(): Method using these calculated parameters apply the transformation to a particular dataset.\n",
    "\n",
    "3.Fit_transform(): joins the fit() and transform() method for transformation of dataset.\n",
    "\n",
    "Code snippet for Feature Scaling/Standardisation(after train_test_split).\n",
    "\n",
    "from sklearn.preprocessing import StandardScaler\n",
    "sc = StandardScaler()\n",
    "sc.fit_tranform(X_train)\n",
    "sc.tranform(X_test)\n",
    "We apply the same(training set same two parameters μ and σ (values)) parameter transformation on our testing set."
   ]
  },
  {
   "cell_type": "code",
   "execution_count": 25,
   "metadata": {},
   "outputs": [
    {
     "name": "stdout",
     "output_type": "stream",
     "text": [
      "<class 'numpy.ndarray'>\n",
      "<class 'numpy.ndarray'>\n",
      "<class 'pandas.core.frame.DataFrame'>\n",
      "<class 'pandas.core.frame.DataFrame'>\n"
     ]
    }
   ],
   "source": [
    "from sklearn.model_selection import train_test_split\n",
    "from sklearn.preprocessing import MinMaxScaler\n",
    "\n",
    "# X = pcadf.iloc[:, 0:35]\n",
    "# y = pcadf['class']\n",
    "atr=30 #(t0-t5, melhor acc)\n",
    "init=0 #0-5 , 5-10, 10-15, 15-20, 20-25, 25-30, 30-35, 35-40, 40-45, 45-50\n",
    "\n",
    "X_todo = df.iloc[:, init:init+atr]#0:atr !!!IMPORTANTE\n",
    "y_todo = df[['paciente','name_class','class']]\n",
    "X_train, X_test, y_train, y_test = train_test_split(X_todo, y_todo, random_state=0)\n",
    "\n",
    "\n",
    "# print(y) \n",
    "#You do that on the training set of data. But then you have to apply the same transformation to your testing set (e.g. in cross-validation), or to newly obtained examples before forecast. But you have to use the same two parameters μ and σ (values) that you used for centering the training set.\n",
    "scaler = MinMaxScaler()\n",
    "X_train = scaler.fit_transform(X_train) \n",
    "X_test = scaler.transform(X_test) \n",
    "X_todo = MinMaxScaler().fit_transform(X_todo) \n",
    "print(type(X_train)) #<class 'numpy.ndarray'>\n",
    "print(type(X_test)) #<class 'numpy.ndarray'>\n",
    "print(type(y_train)) #<class 'pandas.core.frame.DataFrame'>\n",
    "print(type(y_test)) #<class 'pandas.core.frame.DataFrame'>\n",
    "# print(X_train.shape)#(157, 35)\n"
   ]
  },
  {
   "cell_type": "markdown",
   "metadata": {},
   "source": [
    "## PCA"
   ]
  },
  {
   "cell_type": "code",
   "execution_count": 26,
   "metadata": {},
   "outputs": [
    {
     "name": "stdout",
     "output_type": "stream",
     "text": [
      "(157, 30)\n",
      "(53, 30)\n",
      "(210, 33)\n"
     ]
    },
    {
     "data": {
      "text/html": [
       "<div>\n",
       "<style scoped>\n",
       "    .dataframe tbody tr th:only-of-type {\n",
       "        vertical-align: middle;\n",
       "    }\n",
       "\n",
       "    .dataframe tbody tr th {\n",
       "        vertical-align: top;\n",
       "    }\n",
       "\n",
       "    .dataframe thead th {\n",
       "        text-align: right;\n",
       "    }\n",
       "</style>\n",
       "<table border=\"1\" class=\"dataframe\">\n",
       "  <thead>\n",
       "    <tr style=\"text-align: right;\">\n",
       "      <th></th>\n",
       "      <th>PCA0</th>\n",
       "      <th>PCA1</th>\n",
       "      <th>PCA2</th>\n",
       "      <th>PCA3</th>\n",
       "      <th>PCA4</th>\n",
       "      <th>PCA5</th>\n",
       "      <th>PCA6</th>\n",
       "      <th>PCA7</th>\n",
       "      <th>PCA8</th>\n",
       "      <th>PCA9</th>\n",
       "      <th>...</th>\n",
       "      <th>PCA23</th>\n",
       "      <th>PCA24</th>\n",
       "      <th>PCA25</th>\n",
       "      <th>PCA26</th>\n",
       "      <th>PCA27</th>\n",
       "      <th>PCA28</th>\n",
       "      <th>PCA29</th>\n",
       "      <th>paciente</th>\n",
       "      <th>name_class</th>\n",
       "      <th>class</th>\n",
       "    </tr>\n",
       "  </thead>\n",
       "  <tbody>\n",
       "    <tr>\n",
       "      <th>205</th>\n",
       "      <td>1.937362</td>\n",
       "      <td>6.421862</td>\n",
       "      <td>0.977430</td>\n",
       "      <td>0.107130</td>\n",
       "      <td>1.418519</td>\n",
       "      <td>-0.910942</td>\n",
       "      <td>0.750026</td>\n",
       "      <td>-0.207347</td>\n",
       "      <td>-0.692016</td>\n",
       "      <td>0.747657</td>\n",
       "      <td>...</td>\n",
       "      <td>-0.436546</td>\n",
       "      <td>0.264209</td>\n",
       "      <td>-0.101465</td>\n",
       "      <td>0.096235</td>\n",
       "      <td>-0.124494</td>\n",
       "      <td>0.049673</td>\n",
       "      <td>0.017233</td>\n",
       "      <td>TCGA_BH_A0H9.txt</td>\n",
       "      <td>normal</td>\n",
       "      <td>1</td>\n",
       "    </tr>\n",
       "    <tr>\n",
       "      <th>206</th>\n",
       "      <td>-2.515268</td>\n",
       "      <td>-1.507175</td>\n",
       "      <td>-1.613446</td>\n",
       "      <td>-0.611225</td>\n",
       "      <td>1.524992</td>\n",
       "      <td>-1.249691</td>\n",
       "      <td>0.032461</td>\n",
       "      <td>0.271325</td>\n",
       "      <td>-0.756813</td>\n",
       "      <td>0.551014</td>\n",
       "      <td>...</td>\n",
       "      <td>0.181020</td>\n",
       "      <td>-0.029446</td>\n",
       "      <td>0.066851</td>\n",
       "      <td>0.021531</td>\n",
       "      <td>-0.069209</td>\n",
       "      <td>-0.060489</td>\n",
       "      <td>0.007815</td>\n",
       "      <td>TCGA_E2_A1LB.txt</td>\n",
       "      <td>normal</td>\n",
       "      <td>1</td>\n",
       "    </tr>\n",
       "    <tr>\n",
       "      <th>207</th>\n",
       "      <td>0.027387</td>\n",
       "      <td>-1.641346</td>\n",
       "      <td>-0.147550</td>\n",
       "      <td>-0.687138</td>\n",
       "      <td>-0.117609</td>\n",
       "      <td>-0.490672</td>\n",
       "      <td>0.781149</td>\n",
       "      <td>-0.185502</td>\n",
       "      <td>-0.108398</td>\n",
       "      <td>0.091376</td>\n",
       "      <td>...</td>\n",
       "      <td>0.200839</td>\n",
       "      <td>0.188333</td>\n",
       "      <td>-0.058114</td>\n",
       "      <td>-0.019640</td>\n",
       "      <td>0.107218</td>\n",
       "      <td>0.110005</td>\n",
       "      <td>-0.023979</td>\n",
       "      <td>TCGA_AC_A2FM.txt</td>\n",
       "      <td>normal</td>\n",
       "      <td>1</td>\n",
       "    </tr>\n",
       "    <tr>\n",
       "      <th>208</th>\n",
       "      <td>-4.575659</td>\n",
       "      <td>-3.374388</td>\n",
       "      <td>0.012947</td>\n",
       "      <td>1.328284</td>\n",
       "      <td>-0.504821</td>\n",
       "      <td>0.189053</td>\n",
       "      <td>1.845128</td>\n",
       "      <td>-0.553972</td>\n",
       "      <td>0.115484</td>\n",
       "      <td>-0.459751</td>\n",
       "      <td>...</td>\n",
       "      <td>0.008147</td>\n",
       "      <td>-0.239242</td>\n",
       "      <td>-0.114961</td>\n",
       "      <td>0.179190</td>\n",
       "      <td>0.022514</td>\n",
       "      <td>0.048036</td>\n",
       "      <td>-0.004074</td>\n",
       "      <td>TCGA_BH_A0DT.txt</td>\n",
       "      <td>normal</td>\n",
       "      <td>1</td>\n",
       "    </tr>\n",
       "    <tr>\n",
       "      <th>209</th>\n",
       "      <td>-8.256455</td>\n",
       "      <td>-0.144732</td>\n",
       "      <td>0.146869</td>\n",
       "      <td>0.690590</td>\n",
       "      <td>-1.294743</td>\n",
       "      <td>-0.733832</td>\n",
       "      <td>2.637818</td>\n",
       "      <td>0.799730</td>\n",
       "      <td>1.064450</td>\n",
       "      <td>0.327362</td>\n",
       "      <td>...</td>\n",
       "      <td>0.110121</td>\n",
       "      <td>-0.111830</td>\n",
       "      <td>-0.331446</td>\n",
       "      <td>-0.007590</td>\n",
       "      <td>-0.031059</td>\n",
       "      <td>-0.033486</td>\n",
       "      <td>-0.006625</td>\n",
       "      <td>TCGA_E9_A1N9.txt</td>\n",
       "      <td>normal</td>\n",
       "      <td>1</td>\n",
       "    </tr>\n",
       "  </tbody>\n",
       "</table>\n",
       "<p>5 rows × 33 columns</p>\n",
       "</div>"
      ],
      "text/plain": [
       "         PCA0      PCA1      PCA2      PCA3      PCA4      PCA5      PCA6  \\\n",
       "205  1.937362  6.421862  0.977430  0.107130  1.418519 -0.910942  0.750026   \n",
       "206 -2.515268 -1.507175 -1.613446 -0.611225  1.524992 -1.249691  0.032461   \n",
       "207  0.027387 -1.641346 -0.147550 -0.687138 -0.117609 -0.490672  0.781149   \n",
       "208 -4.575659 -3.374388  0.012947  1.328284 -0.504821  0.189053  1.845128   \n",
       "209 -8.256455 -0.144732  0.146869  0.690590 -1.294743 -0.733832  2.637818   \n",
       "\n",
       "         PCA7      PCA8      PCA9  ...       PCA23     PCA24     PCA25  \\\n",
       "205 -0.207347 -0.692016  0.747657  ...   -0.436546  0.264209 -0.101465   \n",
       "206  0.271325 -0.756813  0.551014  ...    0.181020 -0.029446  0.066851   \n",
       "207 -0.185502 -0.108398  0.091376  ...    0.200839  0.188333 -0.058114   \n",
       "208 -0.553972  0.115484 -0.459751  ...    0.008147 -0.239242 -0.114961   \n",
       "209  0.799730  1.064450  0.327362  ...    0.110121 -0.111830 -0.331446   \n",
       "\n",
       "        PCA26     PCA27     PCA28     PCA29          paciente  name_class  \\\n",
       "205  0.096235 -0.124494  0.049673  0.017233  TCGA_BH_A0H9.txt      normal   \n",
       "206  0.021531 -0.069209 -0.060489  0.007815  TCGA_E2_A1LB.txt      normal   \n",
       "207 -0.019640  0.107218  0.110005 -0.023979  TCGA_AC_A2FM.txt      normal   \n",
       "208  0.179190  0.022514  0.048036 -0.004074  TCGA_BH_A0DT.txt      normal   \n",
       "209 -0.007590 -0.031059 -0.033486 -0.006625  TCGA_E9_A1N9.txt      normal   \n",
       "\n",
       "     class  \n",
       "205      1  \n",
       "206      1  \n",
       "207      1  \n",
       "208      1  \n",
       "209      1  \n",
       "\n",
       "[5 rows x 33 columns]"
      ]
     },
     "execution_count": 26,
     "metadata": {},
     "output_type": "execute_result"
    }
   ],
   "source": [
    "# x = df.iloc[:, 0:35].values #\n",
    "# column = ['PCA'+str(i) for i in range(1,36)]\n",
    "# y= df.loc[:,['class']].values\n",
    "# x = StandardScaler().fit_transform(x)\n",
    "\n",
    "\n",
    "# pca = PCA(n_components=35)\n",
    "# principalComponents = pca.fit_transform(x)\n",
    "# principalDf = pd.DataFrame(data = principalComponents, columns = column)\n",
    "\n",
    "# pcadf = pd.concat([principalDf, df[['paciente']],df[['name_class']],df[['class']]], axis = 1)\n",
    "# pcadf.head()\n",
    "\n",
    "stdscaler = StandardScaler() \n",
    "\n",
    "xtrain = stdscaler.fit_transform(X_train)\n",
    "xtest = stdscaler.transform(X_test)\n",
    "xtodo = StandardScaler().fit_transform(X_todo)\n",
    "\n",
    "\n",
    "y_dftrain = pd.DataFrame(data = (y_train.iloc[:,0:3]).values, columns = ['paciente','name_class', 'class'])\n",
    "y_dftest = pd.DataFrame(data = (y_test.iloc[:,0:3]).values, columns = ['paciente','name_class', 'class'])\n",
    " \n",
    "\n",
    "pca = PCA(n_components=atr)\n",
    "pca_train = pca.fit_transform(xtrain)\n",
    "pca_test = pca.transform(xtest)\n",
    "pca_todo = PCA(n_components=atr).fit_transform(xtodo)\n",
    "\n",
    "colunas= ['PCA'+str(i) for i in range(0,atr)]\n",
    "\n",
    "principalDf_train = pd.DataFrame(data = pca_train, columns =colunas) #(157, 35)\n",
    "principalDf_test = pd.DataFrame(data = pca_test, columns = colunas) #(157, 35)\n",
    "principalDf_todo = pd.DataFrame(data = pca_todo, columns = colunas) #(157, 35)\n",
    " \n",
    "pca_todo = pd.concat([principalDf_todo, y_todo[['paciente']],y_todo[['name_class']],y_todo[['class']]], axis = 1) \n",
    "print(pca_train.shape)#(157, 38)\n",
    "print(pca_test.shape)#(53, 38)\n",
    "print(pca_todo.shape)#(210, 38)\n",
    "pca_todo.tail()\n",
    "\n"
   ]
  },
  {
   "cell_type": "markdown",
   "metadata": {},
   "source": [
    "### Save in diferent formats\n",
    "\n"
   ]
  },
  {
   "cell_type": "code",
   "execution_count": null,
   "metadata": {},
   "outputs": [],
   "source": [
    "#save pca to arff\n",
    "pcadf_save = pd.concat([principalDf_todo,df[['name_class']]], axis = 1)\n",
    "import arff \n",
    "# arff.dump('Arffs/>/pca_classicalthre=0.001.arff', pcadf_save.values, relation='thre=0.001', names=pcadf_save.columns)\n",
    "arff.dump('Arffs/>/pca_t0t9.arff', pcadf_save.values, relation='t0t9', names=pcadf_save.columns)\n",
    "#save to csv\n",
    "# df = pd.concat([data, col1['paciente'], col2['name_class'],col3['class']], axis = 1)\n",
    "# df.to_csv('Arffs/thre=0123451.csv', sep='\\t', index=False)"
   ]
  },
  {
   "cell_type": "markdown",
   "metadata": {},
   "source": [
    "### Plotly"
   ]
  },
  {
   "cell_type": "code",
   "execution_count": null,
   "metadata": {},
   "outputs": [],
   "source": [
    "gb = pca_todo.groupby('name_class')\n",
    "groups = dict(list(gb))\n",
    "group = set(pca_todo['name_class'])\n",
    "\n",
    "\n",
    "data = [go.Scatter(x=groups[g].PCA0, y=groups[g].PCA1,\n",
    "                   mode='markers', text= groups[g].name_class+\" \"+groups[g].paciente, name=g) \n",
    "        for g in group ]\n",
    "\n",
    "layout = go.Layout(title='', xaxis={'title': 'PCA1'}, yaxis={'title': 'PCA2'}, width=700,height=700)\n",
    "\n",
    "\n",
    "\n",
    "\n",
    "fig = go.Figure(data=data, layout=layout)\n",
    "\n",
    "py.iplot(fig, filename='pca1_pca2')"
   ]
  },
  {
   "cell_type": "markdown",
   "metadata": {},
   "source": [
    "## TSNE"
   ]
  },
  {
   "cell_type": "code",
   "execution_count": null,
   "metadata": {},
   "outputs": [],
   "source": [
    "import numpy as np\n",
    "from sklearn.manifold import TSNE\n",
    " \n",
    "x = df.iloc[:, 0:atr].values #\n",
    "y= df.loc[:,['class']].values\n",
    "\n",
    "X_embedded = TSNE(n_components=2).fit_transform(x)\n",
    "X_embedded.shape\n"
   ]
  },
  {
   "cell_type": "markdown",
   "metadata": {},
   "source": [
    "## NO- dimensionality reduction"
   ]
  },
  {
   "cell_type": "code",
   "execution_count": null,
   "metadata": {},
   "outputs": [],
   "source": [
    "x = df.iloc[:, 0:atr].values #\n",
    "y= df.loc[:,['class']].values\n",
    "x = StandardScaler().fit_transform(x)\n",
    "X_train, X_test, y_train, y_test = train_test_split(x, y, random_state=0)"
   ]
  },
  {
   "cell_type": "code",
   "execution_count": null,
   "metadata": {},
   "outputs": [],
   "source": []
  },
  {
   "cell_type": "code",
   "execution_count": 23,
   "metadata": {},
   "outputs": [],
   "source": [
    "#https://towardsdatascience.com/solving-a-simple-classification-problem-with-python-fruits-lovers-edition-d20ab6b071d2\n",
    "import matplotlib.cm as cm\n",
    "from matplotlib.colors import ListedColormap, BoundaryNorm\n",
    "import matplotlib.patches as mpatches\n",
    "from sklearn.model_selection import train_test_split\n",
    "from sklearn.neighbors import KNeighborsClassifier\n",
    "\n",
    "\n",
    "def plot_boundary(X, y, clf):\n",
    "#     X_mat = X[['PCA1','PCA2']].values\n",
    "    X_mat = X[:, (0,1)] \n",
    "    y_mat = y.values\n",
    "\n",
    "    # Create color maps\n",
    "    cmap_light = ListedColormap(['#9ABBD9', '#F7BA89']) #MESH\n",
    "    cmap_bold  = ListedColormap(['#5999D4', '#EB7D30']) # SCATTER\n",
    "\n",
    "    #clf = KNeighborsClassifier(n_neighbors, weights=weights)\n",
    "    #clf = LogisticRegression()\n",
    "    clf.fit(X_mat, y_mat)\n",
    "\n",
    "    # Plot the decision boundary by assigning a color in the color map\n",
    "    # to each mesh point.\n",
    "    \n",
    "    mesh_step_size = .01  # step size in the mesh\n",
    "    plot_symbol_size = 50\n",
    "    \n",
    "    x_min, x_max = X_mat[:, 0].min() - 1, X_mat[:, 0].max() + 1\n",
    "    y_min, y_max = X_mat[:, 1].min() - 1, X_mat[:, 1].max() + 1\n",
    "    xx, yy = np.meshgrid(np.arange(x_min, x_max, mesh_step_size),\n",
    "                         np.arange(y_min, y_max, mesh_step_size))\n",
    "    Z = clf.predict(np.c_[xx.ravel(), yy.ravel()])\n",
    "\n",
    "    # Put the result into a color plot\n",
    "    Z = Z.reshape(xx.shape)\n",
    "    fig = plt.figure(figsize = (8,8))\n",
    "    ax = fig.add_subplot(1,1,1) \n",
    "    ax.set_xlabel('1st principal component', fontsize = 15)\n",
    "    ax.set_ylabel('2nd principal component', fontsize = 15)\n",
    "    #ax.set_title('2 component PCA', fontsize = 20)\n",
    "    plt.pcolormesh(xx, yy, Z, cmap=cmap_light)\n",
    "     \n",
    "    plt.scatter(X_mat[:, 0], X_mat[:, 1], s=plot_symbol_size, c=y, cmap=cmap_bold, edgecolor = 'black')\n",
    "    plt.xlim(xx.min(), xx.max())\n",
    "    plt.ylim(yy.min(), yy.max())\n",
    "    \n",
    "    print('xmin= %f, xmax=%f; ymin=%f,ymax=%f'%(xx.min(), xx.max(), yy.min(), yy.max()))\n",
    "\n",
    "    patch0 = mpatches.Patch(color='#5999D4', label='tumor')\n",
    "    patch1 = mpatches.Patch(color='#EB7D30', label='normal') \n",
    "    #plt.legend(handles=[patch0, patch1])\n",
    "\n",
    "        \n",
    "    plt.xlabel('1st principal component')\n",
    "    plt.ylabel('2nd principal component')\n",
    "    #plt.title('classification')\n",
    "    fig.savefig('Arffs/>/LinearSVC.png', bbox_inches='tight', dpi = 300)\n",
    "\n",
    "    plt.show()\n"
   ]
  },
  {
   "cell_type": "code",
   "execution_count": 27,
   "metadata": {},
   "outputs": [],
   "source": [
    "\n",
    "x = pca_todo.iloc[:, 0:atr]\n",
    "y = y_todo['class']\n"
   ]
  },
  {
   "cell_type": "code",
   "execution_count": null,
   "metadata": {},
   "outputs": [],
   "source": [
    "ytr = y_train.loc[:,['class']].values.ravel()\n",
    "yte = y_test.loc[:,['class']].values.ravel()\n"
   ]
  },
  {
   "cell_type": "code",
   "execution_count": 28,
   "metadata": {},
   "outputs": [
    {
     "name": "stdout",
     "output_type": "stream",
     "text": [
      "xmin= -9.256455, xmax=10.743545; ymin=-5.495178,ymax=9.664822\n"
     ]
    },
    {
     "data": {
      "image/png": "[encoded data removed]",
      "text/plain": [
       "<Figure size 576x576 with 1 Axes>"
      ]
     },
     "metadata": {},
     "output_type": "display_data"
    }
   ],
   "source": [
    "from sklearn.svm import SVC\n",
    "from sklearn import svm\n",
    "# knn = KNeighborsClassifier(n_neighbors=3, weights='uniform')\n",
    "# logreg = LogisticRegression()\n",
    "# lda = LinearDiscriminantAnalysis()\n",
    "svm = svm.LinearSVC()\n",
    "# knn = KNeighborsClassifier()\n",
    "# lda = LinearDiscriminantAnalysis() \n",
    "# svm = svm.SVC(kernel='poly')\n",
    "\n",
    "# plot_boundary(X_train, y_train, lda)\n",
    "\n",
    "x = pca_todo.iloc[:, 0:atr]\n",
    "y = y_todo['class']\n",
    "\n",
    "\n",
    "plot_boundary(x.values, y,svm)\n"
   ]
  },
  {
   "cell_type": "markdown",
   "metadata": {},
   "source": [
    "## Support vector machine"
   ]
  },
  {
   "cell_type": "code",
   "execution_count": null,
   "metadata": {},
   "outputs": [],
   "source": [
    "from sklearn import svm\n",
    "\n",
    "\n",
    "# svm = svm.SVC(gamma='scale')\n",
    "svm = svm.LinearSVC()\n",
    "# svm = svm.SVC(kernel='poly')\n",
    "# svm = svm.SVR()\n",
    "svm.fit(pca_train, ytr)  \n",
    "print('Accuracy of SVM classifier on training set: {:.2f}'.format(svm.score(pca_train, ytr)))\n",
    "print('Accuracy of SVM classifier on test set: {:.2f}'.format(svm.score(pca_test, yte)))\n",
    "\n",
    "\n",
    "\n",
    "clf.fit(X_train, y_train)\n",
    "y_pred = clf.predict(pca_test)\n",
    "#Accuracy\n",
    "print(\"Accuracy\", metrics.accuracy_score(pca_test, yte))\n",
    "#AUC Curve\n",
    "y_pred_proba = clf.predict_proba(pca_test)[::,1]\n",
    "fpr, tpr, _ = metrics.roc_curve(pca_test,  y_pred_proba)\n",
    "auc = metrics.roc_auc_score(pca_test, y_pred_proba)\n",
    "plt.plot(fpr,tpr,label=\"data 1, auc=\"+str(auc))\n",
    "plt.legend(loc=4)\n",
    "plt.show()\n"
   ]
  },
  {
   "cell_type": "code",
   "execution_count": null,
   "metadata": {
    "scrolled": true
   },
   "outputs": [],
   "source": [
    "from sklearn.model_selection import cross_val_score\n",
    "from sklearn import svm\n",
    "# svm = svm.SVC(kernel='poly')\n",
    "svm = svm.LinearSVC()\n",
    "# svm = svm.SVC(gamma='scale') #No funca\n",
    "scores = cross_val_score(svm, x, y, cv=10)\n",
    "print(\"\\nSupport vector machine\")\n",
    "print(\"Cross validation scores: {}\".format(scores))\n",
    "print(\"Average cross-validation score: %.2f +/- %.2f\"%(scores.mean()*100, scores.std()*100)) \n"
   ]
  },
  {
   "cell_type": "code",
   "execution_count": null,
   "metadata": {},
   "outputs": [],
   "source": [
    "from sklearn.metrics import classification_report\n",
    "from sklearn.metrics import confusion_matrix\n",
    "pred = svm.predict(pca_test)\n",
    "print(confusion_matrix(yte, pred))\n",
    "print(classification_report(yte, pred))"
   ]
  },
  {
   "cell_type": "markdown",
   "metadata": {},
   "source": [
    "## LDA"
   ]
  },
  {
   "cell_type": "code",
   "execution_count": null,
   "metadata": {},
   "outputs": [],
   "source": [
    "from sklearn.discriminant_analysis import LinearDiscriminantAnalysis\n",
    "lda = LinearDiscriminantAnalysis() \n",
    "lda.fit(pca_train, ytr)\n",
    "print('Accuracy of LDA classifier on training set: {:.2f}'.format(lda.score(pca_train, ytr)))\n",
    "print('Accuracy of LDA classifier on test set: {:.2f}'.format(lda.score(pca_test, yte)))"
   ]
  },
  {
   "cell_type": "code",
   "execution_count": null,
   "metadata": {},
   "outputs": [],
   "source": [
    "from sklearn.metrics import classification_report\n",
    "from sklearn.metrics import confusion_matrix\n",
    "pred = lda.predict(pca_test)\n",
    "print(confusion_matrix(yte, pred))\n",
    "print(classification_report(yte, pred))"
   ]
  },
  {
   "cell_type": "code",
   "execution_count": null,
   "metadata": {},
   "outputs": [],
   "source": [
    "from sklearn.model_selection import cross_val_score\n",
    "lda = LinearDiscriminantAnalysis()\n",
    "scores = cross_val_score(lda,x, y, cv=10)\n",
    "print(\"\\nLDA\")\n",
    "print(\"Cross validation scores: {}\".format(scores))\n",
    "print(\"Average cross-validation score: %.2f +/- %.2f\"%(scores.mean(), scores.std())) "
   ]
  },
  {
   "cell_type": "markdown",
   "metadata": {},
   "source": [
    "## Knn"
   ]
  },
  {
   "cell_type": "code",
   "execution_count": null,
   "metadata": {},
   "outputs": [],
   "source": [
    "from sklearn.neighbors import KNeighborsClassifier\n",
    "knn = KNeighborsClassifier()\n",
    "knn.fit(pca_train, ytr)\n",
    "print('Accuracy of K-NN classifier on training set: {:.2f}'.format(knn.score(pca_train, ytr)))\n",
    "print('Accuracy of K-NN classifier on test set: {:.2f}'.format(knn.score(pca_test, yte)))"
   ]
  },
  {
   "cell_type": "code",
   "execution_count": null,
   "metadata": {},
   "outputs": [],
   "source": [
    "from sklearn.model_selection import cross_val_score \n",
    "# scores = cross_val_score(knn, X_todo, y, cv=10)\n",
    "scores = cross_val_score(lda,x, y, cv=10)\n",
    "print(\"\\nSupport vector machine\")\n",
    "print(\"Cross validation scores: {}\".format(scores))\n",
    "print(\"Average cross-validation score: %.2f +/- %.2f\"%(scores.mean(), scores.std())) "
   ]
  },
  {
   "cell_type": "code",
   "execution_count": null,
   "metadata": {},
   "outputs": [],
   "source": [
    "from sklearn.metrics import classification_report\n",
    "from sklearn.metrics import confusion_matrix\n",
    "pred = knn.predict(pca_test)\n",
    "print(confusion_matrix(yte, pred))\n",
    "print(classification_report(yte, pred))"
   ]
  },
  {
   "cell_type": "markdown",
   "metadata": {},
   "source": [
    "## GaussianNB"
   ]
  },
  {
   "cell_type": "code",
   "execution_count": null,
   "metadata": {},
   "outputs": [],
   "source": [
    "from sklearn.naive_bayes import GaussianNB\n",
    "gnb = GaussianNB()\n",
    "gnb.fit(pca_train, ytr)\n",
    "print('Accuracy of GNB classifier on training set: {:.2f}'.format(gnb.score(pca_train, ytr)))\n",
    "print('Accuracy of GNB classifier on test set: {:.2f}'.format(gnb.score(pca_test, yte)))"
   ]
  },
  {
   "cell_type": "markdown",
   "metadata": {},
   "source": [
    "## Decision Tree"
   ]
  },
  {
   "cell_type": "code",
   "execution_count": null,
   "metadata": {
    "scrolled": true
   },
   "outputs": [],
   "source": [
    "from sklearn.tree import DecisionTreeClassifier\n",
    "dtree = DecisionTreeClassifier()\n",
    "dtree.fit(pca_train, ytr)\n",
    "print('Accuracy of Decision Tree classifier on training set: {:.2f}'.format(dtree.score(pca_train, ytr)))\n",
    "print('Accuracy of Decision Tree classifier on test set: {:.2f}'.format(dtree.score(pca_test, yte)))"
   ]
  },
  {
   "cell_type": "code",
   "execution_count": null,
   "metadata": {},
   "outputs": [],
   "source": [
    "from sklearn.model_selection import cross_val_score\n",
    "scores = cross_val_score(lda,x, y, cv=10)\n",
    "print(\"\\nDecision Tree\")\n",
    "print(\"Cross validation scores: {}\".format(scores))\n",
    "print(\"Average cross-validation score: %.2f +/- %.2f\"%(scores.mean(), scores.std())) "
   ]
  },
  {
   "cell_type": "markdown",
   "metadata": {},
   "source": [
    "## Logistic Regression"
   ]
  },
  {
   "cell_type": "code",
   "execution_count": null,
   "metadata": {},
   "outputs": [],
   "source": [
    "from sklearn.linear_model import LogisticRegression\n",
    "logreg = LogisticRegression()\n",
    "logreg.fit(pca_train, ytr)\n",
    "print('Accuracy of Logistic regression classifier on training set: {:.2f}'.format(logreg.score(pca_train, ytr)))\n",
    "print('Accuracy of Logistic regression classifier on test set: {:.2f}'.format(logreg.score(pca_test, yte)))"
   ]
  },
  {
   "cell_type": "code",
   "execution_count": null,
   "metadata": {},
   "outputs": [],
   "source": [
    "# Logistic Regression\n",
    "from sklearn.model_selection import cross_val_score\n",
    "scores = cross_val_score(logreg, pca_train, ytr, cv=10)\n",
    "print(\"\\nLogistic Regression\")\n",
    "print(\"Cross validation scores: {}\".format(scores))\n",
    "print(\"Average cross-validation score: %.2f +/- %.2f\"%(scores.mean(), scores.std())) "
   ]
  }
 ],
 "metadata": {
  "kernelspec": {
   "display_name": "Python 3",
   "language": "python",
   "name": "python3"
  },
  "language_info": {
   "codemirror_mode": {
    "name": "ipython",
    "version": 3
   },
   "file_extension": ".py",
   "mimetype": "text/x-python",
   "name": "python",
   "nbconvert_exporter": "python",
   "pygments_lexer": "ipython3",
   "version": "3.7.6"
  }
 },
 "nbformat": 4,
 "nbformat_minor": 2
}
